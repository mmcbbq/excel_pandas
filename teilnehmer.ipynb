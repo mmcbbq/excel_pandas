{
 "cells": [
  {
   "cell_type": "raw",
   "source": [
    "import pandas as pd"
   ],
   "metadata": {
    "collapsed": false
   },
   "id": "a29c179084fae668"
  },
  {
   "cell_type": "code",
   "execution_count": 20,
   "id": "initial_id",
   "metadata": {
    "collapsed": true,
    "ExecuteTime": {
     "end_time": "2024-03-21T09:29:04.605108800Z",
     "start_time": "2024-03-21T09:29:04.592099800Z"
    }
   },
   "outputs": [],
   "source": [
    "import pandas as pd"
   ]
  },
  {
   "cell_type": "code",
   "outputs": [],
   "source": [
    "dfexcel = pd.read_excel(\"teilnehmerdaten.xlsx\", sheet_name=None)\n"
   ],
   "metadata": {
    "collapsed": false,
    "ExecuteTime": {
     "end_time": "2024-03-21T09:52:36.654425700Z",
     "start_time": "2024-03-21T09:52:36.549425200Z"
    }
   },
   "id": "be1fb360fac2552f",
   "execution_count": 24
  },
  {
   "cell_type": "code",
   "outputs": [
    {
     "name": "stdout",
     "output_type": "stream",
     "text": [
      "<class 'dict'>\n"
     ]
    }
   ],
   "source": [
    "print(type(dfexcel))"
   ],
   "metadata": {
    "collapsed": false,
    "ExecuteTime": {
     "end_time": "2024-03-21T09:29:08.274269900Z",
     "start_time": "2024-03-21T09:29:08.270257400Z"
    }
   },
   "id": "fe45b2ebe6bd7b7d",
   "execution_count": 22
  },
  {
   "cell_type": "code",
   "outputs": [
    {
     "name": "stdout",
     "output_type": "stream",
     "text": [
      "       Name  Vorname  Kundennummer Vertrag von        bis Maßnahmenummer  \\\n",
      "0    Parker    Peter          1001  2023-06-19 2025-06-18   955/215/2023   \n",
      "1   Ayuhara     Mila          1002  2023-06-19 2025-06-18   955/215/2023   \n",
      "2   Simpson    Homer          1003  2023-06-19 2025-06-18   955/210/2023   \n",
      "3     Stark     Tony          1004  2023-06-21 2025-06-18   955/210/2023   \n",
      "4     Cohle     Rust          1005  2023-06-19 2025-06-18   955/210/2023   \n",
      "5  Corleone     Vito          1006  2023-06-03 2025-06-18   955/210/2023   \n",
      "6    Connor    Sarah          1007  2023-06-19 2025-06-18   955/210/2023   \n",
      "7   Ketchum      Ash          1008  2023-06-19 2025-06-18   955/215/2023   \n",
      "8   Venkman    Peter          1009  2023-06-19 2025-06-18   955/215/2023   \n",
      "9      Vega  Vincent          1010  2023-06-20 2025-06-18   955/233/2023   \n",
      "\n",
      "                                 Bezeichnung Straße/Hausnummer    PLZ     Ort  \n",
      "0         Fachinformatiker Systemintegration         Strasse 1  12001  Berlin  \n",
      "1         Fachinformatiker Systemintegration         Strasse 2  12002  Berlin  \n",
      "2     Fachinformatiker Anwendungsentwicklung         Strasse 3  12003  Berlin  \n",
      "3     Fachinformatiker Anwendungsentwicklung         Strasse 4  12004  Berlin  \n",
      "4     Fachinformatiker Anwendungsentwicklung         Strasse 5  12005  Berlin  \n",
      "5     Fachinformatiker Anwendungsentwicklung         Strasse 6  12006  Berlin  \n",
      "6     Fachinformatiker Anwendungsentwicklung         Strasse 7  12007  Berlin  \n",
      "7         Fachinformatiker Systemintegration         Strasse 8  12008  Berlin  \n",
      "8         Fachinformatiker Systemintegration         Strasse 9  12009  Berlin  \n",
      "9  Fachinformatiker Daten und Prozessanalyse        Strasse 10  12010  Berlin  \n"
     ]
    }
   ],
   "source": [
    "print(dfexcel[\"teilnehmerdaten\"])"
   ],
   "metadata": {
    "collapsed": false,
    "ExecuteTime": {
     "end_time": "2024-03-21T09:29:26.327380700Z",
     "start_time": "2024-03-21T09:29:26.310620200Z"
    }
   },
   "id": "2a0e2439d637aeba",
   "execution_count": 23
  },
  {
   "cell_type": "code",
   "outputs": [
    {
     "name": "stdout",
     "output_type": "stream",
     "text": [
      "<class 'pandas.core.frame.DataFrame'>\n"
     ]
    }
   ],
   "source": [
    "print(type(dfexcel[\"teilnehmerdaten\"]))"
   ],
   "metadata": {
    "collapsed": false,
    "ExecuteTime": {
     "end_time": "2024-03-21T09:19:17.276247800Z",
     "start_time": "2024-03-21T09:19:17.263397100Z"
    }
   },
   "id": "ffc0a88034671fba",
   "execution_count": 8
  },
  {
   "cell_type": "code",
   "outputs": [],
   "source": [
    "tbl = dfexcel[\"teilnehmerdaten\"]"
   ],
   "metadata": {
    "collapsed": false,
    "ExecuteTime": {
     "end_time": "2024-03-21T09:28:00.494808700Z",
     "start_time": "2024-03-21T09:28:00.482804200Z"
    }
   },
   "id": "9475d10e37956849",
   "execution_count": 18
  },
  {
   "cell_type": "code",
   "outputs": [
    {
     "name": "stdout",
     "output_type": "stream",
     "text": [
      "Parker\n",
      "Ayuhara\n",
      "Simpson\n",
      "Stark\n",
      "Cohle\n",
      "Corleone\n",
      "Connor\n",
      "Ketchum\n",
      "Venkman\n",
      "Vega\n"
     ]
    }
   ],
   "source": [
    "for i in range(len(tbl)):\n",
    "    print(tbl.loc[i,\"Name\"]),"
   ],
   "metadata": {
    "collapsed": false,
    "ExecuteTime": {
     "end_time": "2024-03-21T09:28:43.541426600Z",
     "start_time": "2024-03-21T09:28:43.531416400Z"
    }
   },
   "id": "5bbb5328eb13b795",
   "execution_count": 19
  },
  {
   "cell_type": "code",
   "outputs": [
    {
     "name": "stdout",
     "output_type": "stream",
     "text": [
      "Given Dataframe :\n",
      "         Name  Age    Stream  Percentage\n",
      "0      Ankit   21      Math          88\n",
      "1       Amit   19  Commerce          92\n",
      "2  Aishwarya   20      Arts          95\n",
      "3   Priyanka   18   Biology          70\n",
      "<class 'pandas.core.frame.DataFrame'>\n",
      "\n",
      "Iterating over rows using index attribute :\n",
      "\n",
      "Ankit Math\n",
      "Amit Commerce\n",
      "Aishwarya Arts\n",
      "Priyanka Biology\n"
     ]
    }
   ],
   "source": [],
   "metadata": {
    "collapsed": false,
    "ExecuteTime": {
     "end_time": "2024-03-21T09:24:26.082971100Z",
     "start_time": "2024-03-21T09:24:26.066412300Z"
    }
   },
   "id": "7fa3d15f8162cb",
   "execution_count": 13
  },
  {
   "cell_type": "code",
   "outputs": [],
   "source": [
    "import mysql.connector\n",
    "\n",
    "db = mysql.connector.connect(\n",
    "    host='localhost',\n",
    "    user='root',\n",
    "    password='',\n",
    "    database='teilnehmerexcel'\n",
    ")\n",
    "\n"
   ],
   "metadata": {
    "collapsed": false,
    "ExecuteTime": {
     "end_time": "2024-03-21T11:43:16.089868900Z",
     "start_time": "2024-03-21T11:43:15.847170400Z"
    }
   },
   "id": "6e7ee37364b76ed2",
   "execution_count": 25
  },
  {
   "cell_type": "code",
   "outputs": [],
   "source": [
    "mycursor = db.cursor()\n",
    "\n",
    "sql = \"\"\"INSERT INTO teilnehmer( fname, lname, v_start, v_end, m_nr, fach, addre) \n",
    "values (%s, %s,%s, %s,%s, %s,%s)\"\"\"\n",
    "val = ('tim','timson','23.11.2020','25.12.2024','123','dbler','strasse 11')\n",
    "\n",
    "mycursor.execute(sql,val)\n",
    "\n",
    "db.commit()"
   ],
   "metadata": {
    "collapsed": false,
    "ExecuteTime": {
     "end_time": "2024-03-21T11:43:22.862253Z",
     "start_time": "2024-03-21T11:43:22.854831200Z"
    }
   },
   "id": "8ff8ccbcacaa00aa",
   "execution_count": 26
  },
  {
   "cell_type": "code",
   "outputs": [],
   "source": [],
   "metadata": {
    "collapsed": false
   },
   "id": "b2eea3c2fe7b9602"
  }
 ],
 "metadata": {
  "kernelspec": {
   "display_name": "Python 3",
   "language": "python",
   "name": "python3"
  },
  "language_info": {
   "codemirror_mode": {
    "name": "ipython",
    "version": 2
   },
   "file_extension": ".py",
   "mimetype": "text/x-python",
   "name": "python",
   "nbconvert_exporter": "python",
   "pygments_lexer": "ipython2",
   "version": "2.7.6"
  }
 },
 "nbformat": 4,
 "nbformat_minor": 5
}
